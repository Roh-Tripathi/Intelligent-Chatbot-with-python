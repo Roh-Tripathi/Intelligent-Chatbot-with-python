{
 "cells": [
  {
   "cell_type": "code",
   "execution_count": 23,
   "metadata": {
    "scrolled": false
   },
   "outputs": [
    {
     "name": "stdout",
     "output_type": "stream",
     "text": [
      "Requirement already satisfied: Wikipedia-API in e:\\installed setups\\anaconda\\lib\\site-packages (0.5.4)\n",
      "Requirement already satisfied: requests in e:\\installed setups\\anaconda\\lib\\site-packages (from Wikipedia-API) (2.27.1)\n",
      "Requirement already satisfied: certifi>=2017.4.17 in e:\\installed setups\\anaconda\\lib\\site-packages (from requests->Wikipedia-API) (2021.10.8)\n",
      "Requirement already satisfied: charset-normalizer~=2.0.0 in e:\\installed setups\\anaconda\\lib\\site-packages (from requests->Wikipedia-API) (2.0.4)\n",
      "Requirement already satisfied: idna<4,>=2.5 in e:\\installed setups\\anaconda\\lib\\site-packages (from requests->Wikipedia-API) (3.3)\n",
      "Requirement already satisfied: urllib3<1.27,>=1.21.1 in e:\\installed setups\\anaconda\\lib\\site-packages (from requests->Wikipedia-API) (1.26.9)\n",
      "Requirement already satisfied: selenium==2.53.6 in e:\\installed setups\\anaconda\\lib\\site-packages (2.53.6)\n"
     ]
    }
   ],
   "source": [
    "!pip install Wikipedia-API\n",
    "#!pip install selenium\n",
    "!pip install selenium==2.53.6\n",
    "import datetime\n",
    "from selenium import webdriver\n",
    "import wikipediaapi\n"
   ]
  },
  {
   "cell_type": "markdown",
   "metadata": {},
   "source": [
    "# #IMPORTING THE LIBRARIES FOR CHATBOT FUNCTIONALITY"
   ]
  },
  {
   "cell_type": "markdown",
   "metadata": {},
   "source": [
    "# #DEFINING FUNCTION FOR PLAYING YOUTUBE ON USER'S REQUEST"
   ]
  },
  {
   "cell_type": "code",
   "execution_count": 24,
   "metadata": {},
   "outputs": [],
   "source": [
    "def you_tube(video):\n",
    "    str1=video[5:]\n",
    "    video=str1.replace(\" \",\"+\")\n",
    "    browser=webdriver.Chrome(r\"C:\\Users\\Rohan Tripathi\\Documents\\chromedriver.exe\")\n",
    "    browser.get(\"https://www.youtube.com/results?search_query={}\".format(str(video)))\n",
    "    browser.find_element_by_id(\"video-title\").click()\n",
    "    waitbrowser()"
   ]
  },
  {
   "cell_type": "code",
   "execution_count": 25,
   "metadata": {},
   "outputs": [],
   "source": [
    "def waitbrowser():\n",
    "    while 1:\n",
    "        text=input()\n",
    "        text.lower()\n",
    "        if \"jarvis\"==text:\n",
    "            start()\n",
    "        else:\n",
    "            pass"
   ]
  },
  {
   "cell_type": "code",
   "execution_count": 26,
   "metadata": {},
   "outputs": [],
   "source": [
    "def wait():\n",
    "    print(\"type jarvis to activate me\")\n",
    "    while 1:\n",
    "        text=input()\n",
    "        text.lower()\n",
    "        if \"jarvis\"==text:\n",
    "            start()\n",
    "        else:\n",
    "            pass"
   ]
  },
  {
   "cell_type": "markdown",
   "metadata": {},
   "source": [
    "# #DEFINING FUNCTION FOR DISPLAYING TIME ON USER'S REQUEST"
   ]
  },
  {
   "cell_type": "code",
   "execution_count": 27,
   "metadata": {},
   "outputs": [],
   "source": [
    "def ti():\n",
    "    timenow=datetime.datetime.now().time().strftime(\"%I %M %p\")\n",
    "    print(timenow)\n",
    "    wait()"
   ]
  },
  {
   "cell_type": "markdown",
   "metadata": {},
   "source": [
    "# #USING WIKIPEDIA API FOR DISPLAYING THE SUMMARY ON USER'S REQUEST"
   ]
  },
  {
   "cell_type": "code",
   "execution_count": 28,
   "metadata": {},
   "outputs": [],
   "source": [
    "\n",
    "def wikipedia(text):\n",
    "    st = text[13:]\n",
    "    wiki=wikipediaapi.Wikipedia('en')\n",
    "    sum=wiki.page(st)\n",
    "    print(sum.summary[:800])\n",
    "    wait()\n"
   ]
  },
  {
   "cell_type": "markdown",
   "metadata": {},
   "source": [
    "# # START FUNCTION FOR DIRECTING THE AUTOMATION"
   ]
  },
  {
   "cell_type": "code",
   "execution_count": 31,
   "metadata": {},
   "outputs": [],
   "source": [
    "def start():\n",
    "    print(\"Hii\")\n",
    "    inp=input()\n",
    "    inp=inp.lower()\n",
    "    text=inp.split()\n",
    "    if \"search\" in text:\n",
    "        wikipedia(inp)\n",
    "    elif \"play\" in text:\n",
    "        you_tube(inp)\n",
    "    elif \"sleep\" in text:\n",
    "        wait()\n",
    "    elif \"time\" in text:\n",
    "        ti()\n",
    "    else:\n",
    "        exit()"
   ]
  },
  {
   "cell_type": "markdown",
   "metadata": {},
   "source": [
    "# # # # MAIN() FUNCTION OF THE CHATBOT"
   ]
  },
  {
   "cell_type": "code",
   "execution_count": null,
   "metadata": {},
   "outputs": [
    {
     "name": "stdout",
     "output_type": "stream",
     "text": [
      "Hii\n"
     ]
    }
   ],
   "source": [
    "start()"
   ]
  },
  {
   "cell_type": "code",
   "execution_count": null,
   "metadata": {},
   "outputs": [],
   "source": []
  },
  {
   "cell_type": "code",
   "execution_count": null,
   "metadata": {},
   "outputs": [],
   "source": []
  },
  {
   "cell_type": "code",
   "execution_count": null,
   "metadata": {},
   "outputs": [],
   "source": []
  },
  {
   "cell_type": "code",
   "execution_count": null,
   "metadata": {},
   "outputs": [],
   "source": []
  },
  {
   "cell_type": "code",
   "execution_count": null,
   "metadata": {},
   "outputs": [],
   "source": []
  },
  {
   "cell_type": "code",
   "execution_count": null,
   "metadata": {},
   "outputs": [],
   "source": []
  },
  {
   "cell_type": "code",
   "execution_count": null,
   "metadata": {},
   "outputs": [],
   "source": []
  },
  {
   "cell_type": "code",
   "execution_count": null,
   "metadata": {},
   "outputs": [],
   "source": []
  },
  {
   "cell_type": "raw",
   "metadata": {},
   "source": []
  }
 ],
 "metadata": {
  "kernelspec": {
   "display_name": "Python 3 (ipykernel)",
   "language": "python",
   "name": "python3"
  },
  "language_info": {
   "codemirror_mode": {
    "name": "ipython",
    "version": 3
   },
   "file_extension": ".py",
   "mimetype": "text/x-python",
   "name": "python",
   "nbconvert_exporter": "python",
   "pygments_lexer": "ipython3",
   "version": "3.9.12"
  }
 },
 "nbformat": 4,
 "nbformat_minor": 4
}
